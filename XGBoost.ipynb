{
 "cells": [
  {
   "cell_type": "code",
   "execution_count": 1,
   "metadata": {
    "scrolled": true
   },
   "outputs": [],
   "source": [
    "import pandas as pd"
   ]
  },
  {
   "cell_type": "code",
   "execution_count": 2,
   "metadata": {},
   "outputs": [],
   "source": [
    "import  lightgbm as lgb"
   ]
  },
  {
   "cell_type": "code",
   "execution_count": 3,
   "metadata": {},
   "outputs": [
    {
     "data": {
      "text/plain": [
       "<matplotlib.axes._subplots.AxesSubplot at 0x28a5a24d128>"
      ]
     },
     "execution_count": 3,
     "metadata": {},
     "output_type": "execute_result"
    }
   ],
   "source": [
    "df_train = pd.read_csv('C:/Users/PriyaN/Downloads/Demand-Forecasting sample data/Demand-Forecasting/train.csv')\n",
    "df_test = pd.read_csv('C:/Users/PriyaN/Downloads/Demand-Forecasting sample data/Demand-Forecasting/test.csv')\n",
    "import seaborn as sns\n",
    "df_train\n",
    "\n",
    "sns.lineplot(x=\"date\", y=\"sales\",legend = 'full' , data=df_train)"
   ]
  },
  {
   "cell_type": "code",
   "execution_count": 4,
   "metadata": {},
   "outputs": [
    {
     "name": "stdout",
     "output_type": "stream",
     "text": [
      "         date  store  item  sales\n",
      "0  2013-01-01      1     1     13\n",
      "1  2013-01-02      1     1     11\n",
      "2  2013-01-03      1     1     14\n",
      "   id        date  store  item\n",
      "0   0  2018-01-01      1     1\n",
      "1   1  2018-01-02      1     1\n",
      "2   2  2018-01-03      1     1\n"
     ]
    }
   ],
   "source": [
    "print(df_train.head(3))\n",
    "print(df_test.head(3))"
   ]
  },
  {
   "cell_type": "code",
   "execution_count": 5,
   "metadata": {},
   "outputs": [],
   "source": [
    "def add_new_features(x):\n",
    "    x['date'] = pd.to_datetime(x['date'])\n",
    "    x['year'] = x.date.dt.year\n",
    "    x['month'] = x.date.dt.month\n",
    "    x['dayofweek'] = x.date.dt.dayofweek\n",
    "    return x"
   ]
  },
  {
   "cell_type": "code",
   "execution_count": 6,
   "metadata": {},
   "outputs": [],
   "source": [
    "df_train = add_new_features(df_train)\n",
    "df_test= add_new_features(df_test)"
   ]
  },
  {
   "cell_type": "code",
   "execution_count": 7,
   "metadata": {},
   "outputs": [
    {
     "data": {
      "text/html": [
       "<div>\n",
       "<style scoped>\n",
       "    .dataframe tbody tr th:only-of-type {\n",
       "        vertical-align: middle;\n",
       "    }\n",
       "\n",
       "    .dataframe tbody tr th {\n",
       "        vertical-align: top;\n",
       "    }\n",
       "\n",
       "    .dataframe thead th {\n",
       "        text-align: right;\n",
       "    }\n",
       "</style>\n",
       "<table border=\"1\" class=\"dataframe\">\n",
       "  <thead>\n",
       "    <tr style=\"text-align: right;\">\n",
       "      <th></th>\n",
       "      <th>date</th>\n",
       "      <th>store</th>\n",
       "      <th>item</th>\n",
       "      <th>sales</th>\n",
       "      <th>year</th>\n",
       "      <th>month</th>\n",
       "      <th>dayofweek</th>\n",
       "    </tr>\n",
       "  </thead>\n",
       "  <tbody>\n",
       "    <tr>\n",
       "      <th>0</th>\n",
       "      <td>2013-01-01</td>\n",
       "      <td>1</td>\n",
       "      <td>1</td>\n",
       "      <td>13</td>\n",
       "      <td>2013</td>\n",
       "      <td>1</td>\n",
       "      <td>1</td>\n",
       "    </tr>\n",
       "    <tr>\n",
       "      <th>1</th>\n",
       "      <td>2013-01-02</td>\n",
       "      <td>1</td>\n",
       "      <td>1</td>\n",
       "      <td>11</td>\n",
       "      <td>2013</td>\n",
       "      <td>1</td>\n",
       "      <td>2</td>\n",
       "    </tr>\n",
       "    <tr>\n",
       "      <th>2</th>\n",
       "      <td>2013-01-03</td>\n",
       "      <td>1</td>\n",
       "      <td>1</td>\n",
       "      <td>14</td>\n",
       "      <td>2013</td>\n",
       "      <td>1</td>\n",
       "      <td>3</td>\n",
       "    </tr>\n",
       "    <tr>\n",
       "      <th>3</th>\n",
       "      <td>2013-01-04</td>\n",
       "      <td>1</td>\n",
       "      <td>1</td>\n",
       "      <td>13</td>\n",
       "      <td>2013</td>\n",
       "      <td>1</td>\n",
       "      <td>4</td>\n",
       "    </tr>\n",
       "    <tr>\n",
       "      <th>4</th>\n",
       "      <td>2013-01-05</td>\n",
       "      <td>1</td>\n",
       "      <td>1</td>\n",
       "      <td>10</td>\n",
       "      <td>2013</td>\n",
       "      <td>1</td>\n",
       "      <td>5</td>\n",
       "    </tr>\n",
       "    <tr>\n",
       "      <th>...</th>\n",
       "      <td>...</td>\n",
       "      <td>...</td>\n",
       "      <td>...</td>\n",
       "      <td>...</td>\n",
       "      <td>...</td>\n",
       "      <td>...</td>\n",
       "      <td>...</td>\n",
       "    </tr>\n",
       "    <tr>\n",
       "      <th>912995</th>\n",
       "      <td>2017-12-27</td>\n",
       "      <td>10</td>\n",
       "      <td>50</td>\n",
       "      <td>63</td>\n",
       "      <td>2017</td>\n",
       "      <td>12</td>\n",
       "      <td>2</td>\n",
       "    </tr>\n",
       "    <tr>\n",
       "      <th>912996</th>\n",
       "      <td>2017-12-28</td>\n",
       "      <td>10</td>\n",
       "      <td>50</td>\n",
       "      <td>59</td>\n",
       "      <td>2017</td>\n",
       "      <td>12</td>\n",
       "      <td>3</td>\n",
       "    </tr>\n",
       "    <tr>\n",
       "      <th>912997</th>\n",
       "      <td>2017-12-29</td>\n",
       "      <td>10</td>\n",
       "      <td>50</td>\n",
       "      <td>74</td>\n",
       "      <td>2017</td>\n",
       "      <td>12</td>\n",
       "      <td>4</td>\n",
       "    </tr>\n",
       "    <tr>\n",
       "      <th>912998</th>\n",
       "      <td>2017-12-30</td>\n",
       "      <td>10</td>\n",
       "      <td>50</td>\n",
       "      <td>62</td>\n",
       "      <td>2017</td>\n",
       "      <td>12</td>\n",
       "      <td>5</td>\n",
       "    </tr>\n",
       "    <tr>\n",
       "      <th>912999</th>\n",
       "      <td>2017-12-31</td>\n",
       "      <td>10</td>\n",
       "      <td>50</td>\n",
       "      <td>82</td>\n",
       "      <td>2017</td>\n",
       "      <td>12</td>\n",
       "      <td>6</td>\n",
       "    </tr>\n",
       "  </tbody>\n",
       "</table>\n",
       "<p>913000 rows × 7 columns</p>\n",
       "</div>"
      ],
      "text/plain": [
       "             date  store  item  sales  year  month  dayofweek\n",
       "0      2013-01-01      1     1     13  2013      1          1\n",
       "1      2013-01-02      1     1     11  2013      1          2\n",
       "2      2013-01-03      1     1     14  2013      1          3\n",
       "3      2013-01-04      1     1     13  2013      1          4\n",
       "4      2013-01-05      1     1     10  2013      1          5\n",
       "...           ...    ...   ...    ...   ...    ...        ...\n",
       "912995 2017-12-27     10    50     63  2017     12          2\n",
       "912996 2017-12-28     10    50     59  2017     12          3\n",
       "912997 2017-12-29     10    50     74  2017     12          4\n",
       "912998 2017-12-30     10    50     62  2017     12          5\n",
       "912999 2017-12-31     10    50     82  2017     12          6\n",
       "\n",
       "[913000 rows x 7 columns]"
      ]
     },
     "execution_count": 7,
     "metadata": {},
     "output_type": "execute_result"
    }
   ],
   "source": [
    "\n",
    "df_train"
   ]
  },
  {
   "cell_type": "code",
   "execution_count": 8,
   "metadata": {},
   "outputs": [],
   "source": [
    "df_train['daily_avg']=df_train.groupby(['item','store','dayofweek'])['sales'].transform('mean')\n",
    "df_train['monthly_avg']=df_train.groupby(['item','store','month'])['sales'].transform('mean')"
   ]
  },
  {
   "cell_type": "code",
   "execution_count": 9,
   "metadata": {},
   "outputs": [],
   "source": [
    "daily_avg=df_train.groupby(['item','store','dayofweek'])['sales'].mean().reset_index()\n",
    "monthly_avg=df_train.groupby(['item','store','month'])['sales'].mean().reset_index()"
   ]
  },
  {
   "cell_type": "code",
   "execution_count": 10,
   "metadata": {},
   "outputs": [
    {
     "data": {
      "text/html": [
       "<div>\n",
       "<style scoped>\n",
       "    .dataframe tbody tr th:only-of-type {\n",
       "        vertical-align: middle;\n",
       "    }\n",
       "\n",
       "    .dataframe tbody tr th {\n",
       "        vertical-align: top;\n",
       "    }\n",
       "\n",
       "    .dataframe thead th {\n",
       "        text-align: right;\n",
       "    }\n",
       "</style>\n",
       "<table border=\"1\" class=\"dataframe\">\n",
       "  <thead>\n",
       "    <tr style=\"text-align: right;\">\n",
       "      <th></th>\n",
       "      <th>item</th>\n",
       "      <th>store</th>\n",
       "      <th>month</th>\n",
       "      <th>sales</th>\n",
       "    </tr>\n",
       "  </thead>\n",
       "  <tbody>\n",
       "    <tr>\n",
       "      <th>0</th>\n",
       "      <td>1</td>\n",
       "      <td>1</td>\n",
       "      <td>1</td>\n",
       "      <td>13.709677</td>\n",
       "    </tr>\n",
       "    <tr>\n",
       "      <th>1</th>\n",
       "      <td>1</td>\n",
       "      <td>1</td>\n",
       "      <td>2</td>\n",
       "      <td>14.631206</td>\n",
       "    </tr>\n",
       "    <tr>\n",
       "      <th>2</th>\n",
       "      <td>1</td>\n",
       "      <td>1</td>\n",
       "      <td>3</td>\n",
       "      <td>17.600000</td>\n",
       "    </tr>\n",
       "    <tr>\n",
       "      <th>3</th>\n",
       "      <td>1</td>\n",
       "      <td>1</td>\n",
       "      <td>4</td>\n",
       "      <td>20.786667</td>\n",
       "    </tr>\n",
       "    <tr>\n",
       "      <th>4</th>\n",
       "      <td>1</td>\n",
       "      <td>1</td>\n",
       "      <td>5</td>\n",
       "      <td>22.245161</td>\n",
       "    </tr>\n",
       "    <tr>\n",
       "      <th>...</th>\n",
       "      <td>...</td>\n",
       "      <td>...</td>\n",
       "      <td>...</td>\n",
       "      <td>...</td>\n",
       "    </tr>\n",
       "    <tr>\n",
       "      <th>5995</th>\n",
       "      <td>50</td>\n",
       "      <td>10</td>\n",
       "      <td>8</td>\n",
       "      <td>84.567742</td>\n",
       "    </tr>\n",
       "    <tr>\n",
       "      <th>5996</th>\n",
       "      <td>50</td>\n",
       "      <td>10</td>\n",
       "      <td>9</td>\n",
       "      <td>78.873333</td>\n",
       "    </tr>\n",
       "    <tr>\n",
       "      <th>5997</th>\n",
       "      <td>50</td>\n",
       "      <td>10</td>\n",
       "      <td>10</td>\n",
       "      <td>73.045161</td>\n",
       "    </tr>\n",
       "    <tr>\n",
       "      <th>5998</th>\n",
       "      <td>50</td>\n",
       "      <td>10</td>\n",
       "      <td>11</td>\n",
       "      <td>76.993333</td>\n",
       "    </tr>\n",
       "    <tr>\n",
       "      <th>5999</th>\n",
       "      <td>50</td>\n",
       "      <td>10</td>\n",
       "      <td>12</td>\n",
       "      <td>56.283871</td>\n",
       "    </tr>\n",
       "  </tbody>\n",
       "</table>\n",
       "<p>6000 rows × 4 columns</p>\n",
       "</div>"
      ],
      "text/plain": [
       "      item  store  month      sales\n",
       "0        1      1      1  13.709677\n",
       "1        1      1      2  14.631206\n",
       "2        1      1      3  17.600000\n",
       "3        1      1      4  20.786667\n",
       "4        1      1      5  22.245161\n",
       "...    ...    ...    ...        ...\n",
       "5995    50     10      8  84.567742\n",
       "5996    50     10      9  78.873333\n",
       "5997    50     10     10  73.045161\n",
       "5998    50     10     11  76.993333\n",
       "5999    50     10     12  56.283871\n",
       "\n",
       "[6000 rows x 4 columns]"
      ]
     },
     "execution_count": 10,
     "metadata": {},
     "output_type": "execute_result"
    }
   ],
   "source": [
    "monthly_avg"
   ]
  },
  {
   "cell_type": "code",
   "execution_count": 11,
   "metadata": {},
   "outputs": [],
   "source": [
    "def merge(x,y,col,col_name):\n",
    "    x =pd.merge(x, y, how='left', on=None, left_on=col, right_on=col,\n",
    "            left_index=False, right_index=False, sort=True,\n",
    "             copy=True, indicator=False,validate=None)\n",
    "    \n",
    "    x=x.rename(columns={'sales':col_name})\n",
    "    return x\n",
    "\n",
    "df_test=merge(df_test, daily_avg,['item','store','dayofweek'],'daily_avg')\n",
    "df_test=merge(df_test, monthly_avg,['item','store','month'],'monthly_avg')"
   ]
  },
  {
   "cell_type": "code",
   "execution_count": 12,
   "metadata": {},
   "outputs": [
    {
     "name": "stdout",
     "output_type": "stream",
     "text": [
      "Index(['id', 'date', 'store', 'item', 'year', 'month', 'dayofweek',\n",
      "       'daily_avg', 'monthly_avg'],\n",
      "      dtype='object')\n",
      "Index(['date', 'store', 'item', 'sales', 'year', 'month', 'dayofweek',\n",
      "       'daily_avg', 'monthly_avg'],\n",
      "      dtype='object')\n"
     ]
    }
   ],
   "source": [
    "print(df_test.columns)\n",
    "print(df_train.columns)"
   ]
  },
  {
   "cell_type": "code",
   "execution_count": 13,
   "metadata": {},
   "outputs": [],
   "source": [
    "df_test=df_test.drop(['id'],axis=1)\n",
    "df_train=df_train.drop(['date'],axis=1)\n",
    "df_test=df_test.drop(['date'],axis=1)\n"
   ]
  },
  {
   "cell_type": "code",
   "execution_count": 14,
   "metadata": {},
   "outputs": [
    {
     "data": {
      "text/plain": [
       "Index(['store', 'item', 'year', 'month', 'dayofweek', 'daily_avg',\n",
       "       'monthly_avg'],\n",
       "      dtype='object')"
      ]
     },
     "execution_count": 14,
     "metadata": {},
     "output_type": "execute_result"
    }
   ],
   "source": [
    "df_test.columns"
   ]
  },
  {
   "cell_type": "code",
   "execution_count": 15,
   "metadata": {},
   "outputs": [],
   "source": [
    "y=pd.DataFrame()\n",
    "y=df_train['sales']"
   ]
  },
  {
   "cell_type": "code",
   "execution_count": 16,
   "metadata": {},
   "outputs": [],
   "source": [
    "import xgboost as xgb\n",
    "from sklearn.model_selection import train_test_split\n"
   ]
  },
  {
   "cell_type": "code",
   "execution_count": 17,
   "metadata": {},
   "outputs": [],
   "source": [
    "x_train,x_test,y_train,y_test = train_test_split(df_train.drop('sales',axis=1),df_train.pop('sales'),random_state=123,test_size=0.2)"
   ]
  },
  {
   "cell_type": "code",
   "execution_count": 18,
   "metadata": {},
   "outputs": [
    {
     "name": "stderr",
     "output_type": "stream",
     "text": [
      "C:\\Users\\PriyaN\\Anaconda3\\envs\\tensorflow\\lib\\site-packages\\xgboost\\core.py:587: FutureWarning: Series.base is deprecated and will be removed in a future version\n",
      "  if getattr(data, 'base', None) is not None and \\\n"
     ]
    },
    {
     "name": "stdout",
     "output_type": "stream",
     "text": [
      "[12:53:40] WARNING: C:/Jenkins/workspace/xgboost-win64_release_0.90/src/objective/regression_obj.cu:152: reg:linear is now deprecated in favor of reg:squarederror.\n",
      "[0]\ttest-mae:36.3051\n",
      "Will train until test-mae hasn't improved in 20 rounds.\n",
      "[1]\ttest-mae:25.4362\n",
      "[2]\ttest-mae:17.8989\n",
      "[3]\ttest-mae:12.8191\n",
      "[4]\ttest-mae:9.59585\n",
      "[5]\ttest-mae:7.71342\n",
      "[6]\ttest-mae:6.6857\n",
      "[7]\ttest-mae:6.14732\n",
      "[8]\ttest-mae:5.8761\n",
      "[9]\ttest-mae:5.74032\n",
      "[10]\ttest-mae:5.67089\n",
      "[11]\ttest-mae:5.63592\n",
      "[12]\ttest-mae:5.61763\n",
      "[13]\ttest-mae:5.60841\n",
      "[14]\ttest-mae:5.60202\n",
      "[15]\ttest-mae:5.59881\n",
      "[16]\ttest-mae:5.59624\n",
      "[17]\ttest-mae:5.59331\n",
      "[18]\ttest-mae:5.59243\n",
      "[19]\ttest-mae:5.59148\n",
      "[20]\ttest-mae:5.5905\n",
      "[21]\ttest-mae:5.58969\n",
      "[22]\ttest-mae:5.58963\n",
      "[23]\ttest-mae:5.58931\n",
      "[24]\ttest-mae:5.58861\n",
      "[25]\ttest-mae:5.58766\n",
      "[26]\ttest-mae:5.58744\n",
      "[27]\ttest-mae:5.58648\n",
      "[28]\ttest-mae:5.5863\n",
      "[29]\ttest-mae:5.58638\n",
      "[30]\ttest-mae:5.58628\n",
      "[31]\ttest-mae:5.58616\n",
      "[32]\ttest-mae:5.58602\n",
      "[33]\ttest-mae:5.58533\n",
      "[34]\ttest-mae:5.58535\n",
      "[35]\ttest-mae:5.58516\n",
      "[36]\ttest-mae:5.58485\n",
      "[37]\ttest-mae:5.58457\n",
      "[38]\ttest-mae:5.58425\n",
      "[39]\ttest-mae:5.58352\n",
      "[40]\ttest-mae:5.58326\n",
      "[41]\ttest-mae:5.58322\n",
      "[42]\ttest-mae:5.58333\n",
      "[43]\ttest-mae:5.58341\n",
      "[44]\ttest-mae:5.5834\n",
      "[45]\ttest-mae:5.58371\n",
      "[46]\ttest-mae:5.58388\n",
      "[47]\ttest-mae:5.58401\n",
      "[48]\ttest-mae:5.58371\n",
      "[49]\ttest-mae:5.58356\n",
      "[50]\ttest-mae:5.58323\n",
      "[51]\ttest-mae:5.58316\n",
      "[52]\ttest-mae:5.58321\n",
      "[53]\ttest-mae:5.58324\n",
      "[54]\ttest-mae:5.58303\n",
      "[55]\ttest-mae:5.58314\n",
      "[56]\ttest-mae:5.58274\n",
      "[57]\ttest-mae:5.58291\n",
      "[58]\ttest-mae:5.5828\n",
      "[59]\ttest-mae:5.58262\n",
      "[60]\ttest-mae:5.58249\n",
      "[61]\ttest-mae:5.58234\n",
      "[62]\ttest-mae:5.58236\n",
      "[63]\ttest-mae:5.58237\n",
      "[64]\ttest-mae:5.58251\n",
      "[65]\ttest-mae:5.58263\n",
      "[66]\ttest-mae:5.58264\n",
      "[67]\ttest-mae:5.58254\n",
      "[68]\ttest-mae:5.5825\n",
      "[69]\ttest-mae:5.58254\n",
      "[70]\ttest-mae:5.58254\n",
      "[71]\ttest-mae:5.58242\n",
      "[72]\ttest-mae:5.58244\n",
      "[73]\ttest-mae:5.58255\n",
      "[74]\ttest-mae:5.58268\n",
      "[75]\ttest-mae:5.58241\n",
      "[76]\ttest-mae:5.58245\n",
      "[77]\ttest-mae:5.58256\n",
      "[78]\ttest-mae:5.58232\n",
      "[79]\ttest-mae:5.58235\n",
      "[80]\ttest-mae:5.58219\n",
      "[81]\ttest-mae:5.58233\n",
      "[82]\ttest-mae:5.58176\n",
      "[83]\ttest-mae:5.58178\n",
      "[84]\ttest-mae:5.58181\n",
      "[85]\ttest-mae:5.58182\n",
      "[86]\ttest-mae:5.58182\n",
      "[87]\ttest-mae:5.58171\n",
      "[88]\ttest-mae:5.58185\n",
      "[89]\ttest-mae:5.58205\n",
      "[90]\ttest-mae:5.58203\n",
      "[91]\ttest-mae:5.58188\n",
      "[92]\ttest-mae:5.5818\n",
      "[93]\ttest-mae:5.58179\n",
      "[94]\ttest-mae:5.58192\n",
      "[95]\ttest-mae:5.58203\n",
      "[96]\ttest-mae:5.58212\n",
      "[97]\ttest-mae:5.58217\n",
      "[98]\ttest-mae:5.58208\n",
      "[99]\ttest-mae:5.58222\n",
      "[100]\ttest-mae:5.58221\n",
      "[101]\ttest-mae:5.58211\n",
      "[102]\ttest-mae:5.58217\n",
      "[103]\ttest-mae:5.58248\n",
      "[104]\ttest-mae:5.5826\n",
      "[105]\ttest-mae:5.58266\n",
      "[106]\ttest-mae:5.5828\n",
      "[107]\ttest-mae:5.58312\n",
      "Stopping. Best iteration:\n",
      "[87]\ttest-mae:5.58171\n",
      "\n"
     ]
    }
   ],
   "source": [
    "def XGBmodel(x_train,x_test,y_train,y_test):\n",
    "    matrix_train = xgb.DMatrix(x_train,label=y_train)\n",
    "    matrix_test = xgb.DMatrix(x_test,label=y_test)\n",
    "    model=xgb.train(params={'objective':'reg:linear','eval_metric':'mae'}\n",
    "                    ,dtrain=matrix_train,num_boost_round=500, \n",
    "                    early_stopping_rounds=20,evals=[(matrix_test,'test')],)\n",
    "    return model\n",
    "\n",
    "model=XGBmodel(x_train,x_test,y_train,y_test)"
   ]
  },
  {
   "cell_type": "code",
   "execution_count": 19,
   "metadata": {},
   "outputs": [
    {
     "data": {
      "text/html": [
       "<div>\n",
       "<style scoped>\n",
       "    .dataframe tbody tr th:only-of-type {\n",
       "        vertical-align: middle;\n",
       "    }\n",
       "\n",
       "    .dataframe tbody tr th {\n",
       "        vertical-align: top;\n",
       "    }\n",
       "\n",
       "    .dataframe thead th {\n",
       "        text-align: right;\n",
       "    }\n",
       "</style>\n",
       "<table border=\"1\" class=\"dataframe\">\n",
       "  <thead>\n",
       "    <tr style=\"text-align: right;\">\n",
       "      <th></th>\n",
       "      <th>store</th>\n",
       "      <th>item</th>\n",
       "      <th>year</th>\n",
       "      <th>month</th>\n",
       "      <th>dayofweek</th>\n",
       "      <th>daily_avg</th>\n",
       "      <th>monthly_avg</th>\n",
       "    </tr>\n",
       "  </thead>\n",
       "  <tbody>\n",
       "    <tr>\n",
       "      <th>0</th>\n",
       "      <td>1</td>\n",
       "      <td>1</td>\n",
       "      <td>2018</td>\n",
       "      <td>1</td>\n",
       "      <td>0</td>\n",
       "      <td>15.584615</td>\n",
       "      <td>13.709677</td>\n",
       "    </tr>\n",
       "    <tr>\n",
       "      <th>1</th>\n",
       "      <td>1</td>\n",
       "      <td>1</td>\n",
       "      <td>2018</td>\n",
       "      <td>1</td>\n",
       "      <td>0</td>\n",
       "      <td>15.584615</td>\n",
       "      <td>13.709677</td>\n",
       "    </tr>\n",
       "    <tr>\n",
       "      <th>2</th>\n",
       "      <td>1</td>\n",
       "      <td>1</td>\n",
       "      <td>2018</td>\n",
       "      <td>1</td>\n",
       "      <td>0</td>\n",
       "      <td>15.584615</td>\n",
       "      <td>13.709677</td>\n",
       "    </tr>\n",
       "    <tr>\n",
       "      <th>3</th>\n",
       "      <td>1</td>\n",
       "      <td>1</td>\n",
       "      <td>2018</td>\n",
       "      <td>1</td>\n",
       "      <td>0</td>\n",
       "      <td>15.584615</td>\n",
       "      <td>13.709677</td>\n",
       "    </tr>\n",
       "    <tr>\n",
       "      <th>4</th>\n",
       "      <td>1</td>\n",
       "      <td>1</td>\n",
       "      <td>2018</td>\n",
       "      <td>1</td>\n",
       "      <td>0</td>\n",
       "      <td>15.584615</td>\n",
       "      <td>13.709677</td>\n",
       "    </tr>\n",
       "    <tr>\n",
       "      <th>...</th>\n",
       "      <td>...</td>\n",
       "      <td>...</td>\n",
       "      <td>...</td>\n",
       "      <td>...</td>\n",
       "      <td>...</td>\n",
       "      <td>...</td>\n",
       "      <td>...</td>\n",
       "    </tr>\n",
       "    <tr>\n",
       "      <th>44995</th>\n",
       "      <td>10</td>\n",
       "      <td>50</td>\n",
       "      <td>2018</td>\n",
       "      <td>3</td>\n",
       "      <td>5</td>\n",
       "      <td>82.854406</td>\n",
       "      <td>67.780645</td>\n",
       "    </tr>\n",
       "    <tr>\n",
       "      <th>44996</th>\n",
       "      <td>10</td>\n",
       "      <td>50</td>\n",
       "      <td>2018</td>\n",
       "      <td>3</td>\n",
       "      <td>6</td>\n",
       "      <td>87.984674</td>\n",
       "      <td>67.780645</td>\n",
       "    </tr>\n",
       "    <tr>\n",
       "      <th>44997</th>\n",
       "      <td>10</td>\n",
       "      <td>50</td>\n",
       "      <td>2018</td>\n",
       "      <td>3</td>\n",
       "      <td>6</td>\n",
       "      <td>87.984674</td>\n",
       "      <td>67.780645</td>\n",
       "    </tr>\n",
       "    <tr>\n",
       "      <th>44998</th>\n",
       "      <td>10</td>\n",
       "      <td>50</td>\n",
       "      <td>2018</td>\n",
       "      <td>3</td>\n",
       "      <td>6</td>\n",
       "      <td>87.984674</td>\n",
       "      <td>67.780645</td>\n",
       "    </tr>\n",
       "    <tr>\n",
       "      <th>44999</th>\n",
       "      <td>10</td>\n",
       "      <td>50</td>\n",
       "      <td>2018</td>\n",
       "      <td>3</td>\n",
       "      <td>6</td>\n",
       "      <td>87.984674</td>\n",
       "      <td>67.780645</td>\n",
       "    </tr>\n",
       "  </tbody>\n",
       "</table>\n",
       "<p>45000 rows × 7 columns</p>\n",
       "</div>"
      ],
      "text/plain": [
       "       store  item  year  month  dayofweek  daily_avg  monthly_avg\n",
       "0          1     1  2018      1          0  15.584615    13.709677\n",
       "1          1     1  2018      1          0  15.584615    13.709677\n",
       "2          1     1  2018      1          0  15.584615    13.709677\n",
       "3          1     1  2018      1          0  15.584615    13.709677\n",
       "4          1     1  2018      1          0  15.584615    13.709677\n",
       "...      ...   ...   ...    ...        ...        ...          ...\n",
       "44995     10    50  2018      3          5  82.854406    67.780645\n",
       "44996     10    50  2018      3          6  87.984674    67.780645\n",
       "44997     10    50  2018      3          6  87.984674    67.780645\n",
       "44998     10    50  2018      3          6  87.984674    67.780645\n",
       "44999     10    50  2018      3          6  87.984674    67.780645\n",
       "\n",
       "[45000 rows x 7 columns]"
      ]
     },
     "execution_count": 19,
     "metadata": {},
     "output_type": "execute_result"
    }
   ],
   "source": [
    "df_test"
   ]
  },
  {
   "cell_type": "code",
   "execution_count": 20,
   "metadata": {},
   "outputs": [],
   "source": [
    "df_test1 = pd.read_csv('C:/Users/PriyaN/Downloads/Demand-Forecasting sample data/Demand-Forecasting/test.csv')\n",
    "submission = pd.DataFrame(df_test1.pop('id'))\n",
    "y_pred = model.predict(xgb.DMatrix(df_test), ntree_limit = model.best_ntree_limit)\n",
    "\n",
    "submission['sales']= y_pred\n",
    "\n",
    "submission.to_csv('submissionxgb.csv',index=False)"
   ]
  },
  {
   "cell_type": "code",
   "execution_count": null,
   "metadata": {},
   "outputs": [],
   "source": []
  },
  {
   "cell_type": "code",
   "execution_count": 21,
   "metadata": {},
   "outputs": [
    {
     "data": {
      "text/plain": [
       "<matplotlib.axes._subplots.AxesSubplot at 0x28a4692ca90>"
      ]
     },
     "execution_count": 21,
     "metadata": {},
     "output_type": "execute_result"
    },
    {
     "data": {
      "image/png": "[encoded data removed]",
      "text/plain": [
       "<Figure size 432x288 with 1 Axes>"
      ]
     },
     "metadata": {
      "needs_background": "light"
     },
     "output_type": "display_data"
    }
   ],
   "source": [
    "import seaborn as sns\n",
    "sns.lineplot(x=\"month\", y=\"monthly_avg\",legend = 'full' , data=df_test)"
   ]
  },
  {
   "cell_type": "code",
   "execution_count": 22,
   "metadata": {},
   "outputs": [
    {
     "data": {
      "text/plain": [
       "<matplotlib.axes._subplots.AxesSubplot at 0x28a5adf7c18>"
      ]
     },
     "execution_count": 22,
     "metadata": {},
     "output_type": "execute_result"
    },
    {
     "data": {
      "image/png": "[encoded data removed]",
      "text/plain": [
       "<Figure size 432x288 with 1 Axes>"
      ]
     },
     "metadata": {
      "needs_background": "light"
     },
     "output_type": "display_data"
    }
   ],
   "source": [
    "import seaborn as sns\n",
    "sns.lineplot(x=\"dayofweek\", y=\"monthly_avg\",legend = 'full' , data=df_test)"
   ]
  },
  {
   "cell_type": "code",
   "execution_count": 23,
   "metadata": {},
   "outputs": [
    {
     "data": {
      "text/plain": [
       "<matplotlib.axes._subplots.AxesSubplot at 0x28a5ae226d8>"
      ]
     },
     "execution_count": 23,
     "metadata": {},
     "output_type": "execute_result"
    },
    {
     "data": {
      "image/png": "[encoded data removed]",
      "text/plain": [
       "<Figure size 432x288 with 1 Axes>"
      ]
     },
     "metadata": {
      "needs_background": "light"
     },
     "output_type": "display_data"
    }
   ],
   "source": [
    "import seaborn as sns\n",
    "sns.lineplot(x=\"dayofweek\", y=\"daily_avg\",legend = 'full' , data=df_test)"
   ]
  },
  {
   "cell_type": "code",
   "execution_count": null,
   "metadata": {},
   "outputs": [],
   "source": []
  },
  {
   "cell_type": "code",
   "execution_count": null,
   "metadata": {},
   "outputs": [],
   "source": []
  }
 ],
 "metadata": {
  "kernelspec": {
   "display_name": "Python 3",
   "language": "python",
   "name": "python3"
  },
  "language_info": {
   "codemirror_mode": {
    "name": "ipython",
    "version": 3
   },
   "file_extension": ".py",
   "mimetype": "text/x-python",
   "name": "python",
   "nbconvert_exporter": "python",
   "pygments_lexer": "ipython3",
   "version": "3.6.8"
  }
 },
 "nbformat": 4,
 "nbformat_minor": 2
}
